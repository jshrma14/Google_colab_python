{
  "nbformat": 4,
  "nbformat_minor": 0,
  "metadata": {
    "colab": {
      "name": "Assignment 3.ipynb",
      "provenance": [],
      "collapsed_sections": [],
      "authorship_tag": "ABX9TyMZlSBKIRmiK6kp6WxxBQb+",
      "include_colab_link": true
    },
    "kernelspec": {
      "name": "python3",
      "display_name": "Python 3"
    },
    "language_info": {
      "name": "python"
    }
  },
  "cells": [
    {
      "cell_type": "markdown",
      "metadata": {
        "id": "view-in-github",
        "colab_type": "text"
      },
      "source": [
        "<a href=\"https://colab.research.google.com/github/jshrma14/Google_colab_python/blob/main/Assignment_3.ipynb\" target=\"_parent\"><img src=\"https://colab.research.google.com/assets/colab-badge.svg\" alt=\"Open In Colab\"/></a>"
      ]
    },
    {
      "cell_type": "code",
      "metadata": {
        "colab": {
          "base_uri": "https://localhost:8080/"
        },
        "id": "Q9TKdMqXgq8C",
        "outputId": "2167af8b-66e0-44d1-dd31-dccd1a39b8df"
      },
      "source": [
        "# Robot distance problem\n",
        "import math\n",
        "\n",
        "UP = 5\n",
        "DOWN= 3\n",
        "LEFT= 3\n",
        "RIGHT= 2\n",
        "\n",
        "x1 = 0\n",
        "y1 = 0\n",
        "\n",
        "x2 = UP - DOWN\n",
        "y2 = RIGHT - LEFT\n",
        "\n",
        "print(round(math.sqrt((x2-x1)**2 + (y2-y1)**2),2))"
      ],
      "execution_count": null,
      "outputs": [
        {
          "output_type": "stream",
          "name": "stdout",
          "text": [
            "2.24\n"
          ]
        }
      ]
    },
    {
      "cell_type": "code",
      "metadata": {
        "colab": {
          "base_uri": "https://localhost:8080/"
        },
        "id": "k2UXq7M6qcj5",
        "outputId": "678fe0b7-5468-45ac-8e39-52df1cdac3d1"
      },
      "source": [
        "# To find specific data\n",
        "\n",
        "def company_search(lst, low, high, val):\n",
        "\n",
        "\n",
        "\tif high >= low:\n",
        "\n",
        "\t\tmid = (high + low) // 2\n",
        "\n",
        "\t\tif lst[mid] == val:\n",
        "\t\t\treturn mid\n",
        "\n",
        "\t\t\n",
        "\t\telif lst[mid] > val:\n",
        "\t\t\treturn binary_search(lst, low, mid - 1, val)\n",
        "\n",
        "\t\telse:\n",
        "\t\t\treturn binary_search(lst, mid + 1, high, val)\n",
        "\n",
        "\telse:\n",
        "\t\treturn False\n",
        "\n",
        "#Comapany data\n",
        "\n",
        "data = [ 22, 30, 45, 60, 400 ]\n",
        "val = 45\n",
        "\n",
        "result = company_search(data, 0, len(data)-1, val)\n",
        "\n",
        "if result != False:\n",
        "\tprint(\"Data is present at index\", str(result))\n",
        "else:\n",
        "\tprint(\"Data is not present in List\")\n"
      ],
      "execution_count": null,
      "outputs": [
        {
          "output_type": "stream",
          "name": "stdout",
          "text": [
            "Data is present at index 2\n"
          ]
        }
      ]
    },
    {
      "cell_type": "code",
      "metadata": {
        "colab": {
          "base_uri": "https://localhost:8080/"
        },
        "id": "KDS3EIysse95",
        "outputId": "087928f2-0aba-4aad-c946-35f8f4371abc"
      },
      "source": [
        "import time\n",
        "\n",
        "# Getting present hour\n",
        "\n",
        "current_time = time.asctime(time.localtime())\n",
        "print(current_time)\n",
        "\n",
        "hour = time.localtime().tm_hour\n",
        "\n",
        "if (hour>=19 and hour<=23) or (hour>=0 or hour<=4):\n",
        "  print(\"It is Dark outside\")\n",
        "else:\n",
        "  print(\"it is Day outside\")"
      ],
      "execution_count": 22,
      "outputs": [
        {
          "output_type": "stream",
          "name": "stdout",
          "text": [
            "Tue Oct 26 04:15:56 2021\n",
            "It is Dark outside\n"
          ]
        }
      ]
    },
    {
      "cell_type": "code",
      "metadata": {
        "colab": {
          "base_uri": "https://localhost:8080/"
        },
        "id": "fvURU0hpz-12",
        "outputId": "f78536ed-18ee-4c39-fb0f-034515a85e86"
      },
      "source": [
        "from math import sin, cos, sqrt, atan2, radians\n",
        "\n",
        "# approximate radius of earth in km\n",
        "R = 6373.0\n",
        "\n",
        "# Lat,Long for Gwalior\n",
        "lat1 = radians(26.226150)\n",
        "lon1 = radians(78.223010)\n",
        "\n",
        "# Lat/long for Pune\n",
        "lat2 = radians(18.520430)\n",
        "lon2 = radians(73.856743)\n",
        "\n",
        "dlon = lon2 - lon1\n",
        "dlat = lat2 - lat1\n",
        "\n",
        "a = sin(dlat / 2)**2 + cos(lat1) * cos(lat2) * sin(dlon / 2)**2\n",
        "c = 2 * atan2(sqrt(a), sqrt(1 - a))\n",
        "\n",
        "distance = R * c\n",
        "\n",
        "print(\"Result:\", round(distance,2))\n",
        "print(\"Should be:\", 1011, \"km\")\n",
        "\n",
        "print(\"Some distance change might be there because of not exact lat and long\")\n"
      ],
      "execution_count": 28,
      "outputs": [
        {
          "output_type": "stream",
          "name": "stdout",
          "text": [
            "Result: 967.39\n",
            "Should be: 1011 km\n",
            "Some distance change might be there because of not exact lat and long\n"
          ]
        }
      ]
    },
    {
      "cell_type": "code",
      "metadata": {
        "colab": {
          "base_uri": "https://localhost:8080/"
        },
        "id": "-EPHw6wU1hxb",
        "outputId": "1a036f7b-1ba5-474e-fe84-35a2f73db741"
      },
      "source": [
        "print(\"Welcome to banking system\")\n",
        "print(\"\\nPlease choose appropriate option:\\nInput 1 for Cash Withdrawal\\nInput 2 for Cash Credit\\nInput 3 for Checking Balance\\nInput 4 for Changing Paswword\")\n",
        "ch = input(\"Please enter your choice: \")\n",
        "\n",
        "if ch == \"1\":\n",
        "  print(\"You have withdrwan Rs.1000\")\n",
        "elif ch == \"2\":\n",
        "  print(\"You have credited Rs.1000\")\n",
        "elif ch == \"3\":\n",
        "  print(\"Your current balance is Rs.1,00,000\")\n",
        "elif ch == \"4\":\n",
        "  print(\"Your password has been changed.\")\n",
        "else:\n",
        "  print(\"Please choose appropriate option.\")"
      ],
      "execution_count": 5,
      "outputs": [
        {
          "output_type": "stream",
          "name": "stdout",
          "text": [
            "Welcome to banking system\n",
            "\n",
            "Please choose appropriate option:\n",
            "Input 1 for Cash Withdrawal\n",
            "Input 2 for Cash Credit\n",
            "Input 3 for Checking Balance\n",
            "Input 4 for Changing Paswword\n",
            "Please enter your choice: 2\n",
            "You have credited Rs.1000\n"
          ]
        }
      ]
    },
    {
      "cell_type": "code",
      "metadata": {
        "colab": {
          "base_uri": "https://localhost:8080/"
        },
        "id": "o0O6j3_WckgW",
        "outputId": "a91807b4-c9e9-4073-f6ee-721af9245474"
      },
      "source": [
        "for i in range(2000, 3201):\n",
        "  if i%7 == 0 and i%5 != 0:\n",
        "    print(i, end=\",\")"
      ],
      "execution_count": 8,
      "outputs": [
        {
          "output_type": "stream",
          "name": "stdout",
          "text": [
            "2002,2009,2016,2023,2037,2044,2051,2058,2072,2079,2086,2093,2107,2114,2121,2128,2142,2149,2156,2163,2177,2184,2191,2198,2212,2219,2226,2233,2247,2254,2261,2268,2282,2289,2296,2303,2317,2324,2331,2338,2352,2359,2366,2373,2387,2394,2401,2408,2422,2429,2436,2443,2457,2464,2471,2478,2492,2499,2506,2513,2527,2534,2541,2548,2562,2569,2576,2583,2597,2604,2611,2618,2632,2639,2646,2653,2667,2674,2681,2688,2702,2709,2716,2723,2737,2744,2751,2758,2772,2779,2786,2793,2807,2814,2821,2828,2842,2849,2856,2863,2877,2884,2891,2898,2912,2919,2926,2933,2947,2954,2961,2968,2982,2989,2996,3003,3017,3024,3031,3038,3052,3059,3066,3073,3087,3094,3101,3108,3122,3129,3136,3143,3157,3164,3171,3178,3192,3199,"
          ]
        }
      ]
    },
    {
      "cell_type": "code",
      "metadata": {
        "colab": {
          "base_uri": "https://localhost:8080/"
        },
        "id": "0G6St18GdJW_",
        "outputId": "220a3aaa-dbd8-42ea-efc8-4b000f8fc12f"
      },
      "source": [
        "def factorial(n):\n",
        "  if n == 0:\n",
        "    return 1\n",
        "  else: return n*factorial(n-1)\n",
        "\n",
        "print(factorial(6)) "
      ],
      "execution_count": 9,
      "outputs": [
        {
          "output_type": "stream",
          "name": "stdout",
          "text": [
            "720\n"
          ]
        }
      ]
    },
    {
      "cell_type": "code",
      "metadata": {
        "colab": {
          "base_uri": "https://localhost:8080/"
        },
        "id": "VdTWQhhMdilu",
        "outputId": "21c31c26-9424-47b1-dba5-0e8cd293b508"
      },
      "source": [
        "D = list(map(int, input().split(\",\")))\n",
        "\n",
        "C = 50\n",
        "H = 30\n",
        "ans = \"\"\n",
        "for i in D:\n",
        "  Q = ((2*C*i)//H)**0.5\n",
        "  ans += str(int(Q)) + \",\"\n",
        "\n",
        "print(ans[:len(ans)-1])"
      ],
      "execution_count": 23,
      "outputs": [
        {
          "output_type": "stream",
          "name": "stdout",
          "text": [
            "100,150,180\n",
            "18,22,24\n"
          ]
        }
      ]
    },
    {
      "cell_type": "code",
      "metadata": {
        "colab": {
          "base_uri": "https://localhost:8080/"
        },
        "id": "H2SCUHd7hu7O",
        "outputId": "8a81511d-bc5f-4547-9e99-9b6b9391d927"
      },
      "source": [
        "x = int(input(\"Enter number of coloumns: \"))\n",
        "y = int(input(\"Enter number of rows: \"))\n",
        "ans = [[i*j for i in range(x)] for j in range(y)]\n",
        "print(ans)"
      ],
      "execution_count": 34,
      "outputs": [
        {
          "output_type": "stream",
          "name": "stdout",
          "text": [
            "Enter number of coloumns: 5\n",
            "Enter number of rows: 3\n",
            "[[0, 0, 0, 0, 0], [0, 1, 2, 3, 4], [0, 2, 4, 6, 8]]\n"
          ]
        }
      ]
    },
    {
      "cell_type": "code",
      "metadata": {
        "colab": {
          "base_uri": "https://localhost:8080/"
        },
        "id": "d_vV089Si-d3",
        "outputId": "2d1d7cac-5cb1-45b6-b7ac-7c65092eac5a"
      },
      "source": [
        "words = input(\"Please enter comma sepearted words: \").split(\",\")\n",
        "words.sort()\n",
        "print(\",\".join(words))"
      ],
      "execution_count": 36,
      "outputs": [
        {
          "output_type": "stream",
          "name": "stdout",
          "text": [
            "Please enter comma sepearted words: without,hello,bag,world\n",
            "bag,hello,without,world\n"
          ]
        }
      ]
    }
  ]
}