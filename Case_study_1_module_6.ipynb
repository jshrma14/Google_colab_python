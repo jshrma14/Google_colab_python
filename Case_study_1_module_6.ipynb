{
  "nbformat": 4,
  "nbformat_minor": 0,
  "metadata": {
    "colab": {
      "name": "Case study 1 module 6.ipynb",
      "provenance": [],
      "collapsed_sections": [],
      "authorship_tag": "ABX9TyOwBJEmdWtGHPk5y2NWnMe+",
      "include_colab_link": true
    },
    "kernelspec": {
      "name": "python3",
      "display_name": "Python 3"
    },
    "language_info": {
      "name": "python"
    }
  },
  "cells": [
    {
      "cell_type": "markdown",
      "metadata": {
        "id": "view-in-github",
        "colab_type": "text"
      },
      "source": [
        "<a href=\"https://colab.research.google.com/github/jshrma14/Google_colab_python/blob/main/Case_study_1_module_6.ipynb\" target=\"_parent\"><img src=\"https://colab.research.google.com/assets/colab-badge.svg\" alt=\"Open In Colab\"/></a>"
      ]
    },
    {
      "cell_type": "code",
      "metadata": {
        "id": "oZggPljEHZAm"
      },
      "source": [
        "# Importing libraries....\n",
        "\n",
        "import numpy as np\n",
        "import pandas as pd"
      ],
      "execution_count": 1,
      "outputs": []
    },
    {
      "cell_type": "code",
      "metadata": {
        "id": "ERVhp2vDIL0P"
      },
      "source": [
        "dssscore1 = pd.read_csv(\"DSScoreTerm1.csv\") # reading dataset1"
      ],
      "execution_count": 2,
      "outputs": []
    },
    {
      "cell_type": "code",
      "metadata": {
        "colab": {
          "base_uri": "https://localhost:8080/",
          "height": 204
        },
        "id": "xuStMhZVIcPy",
        "outputId": "80d4a223-36f8-4d4a-fb8b-24c53a75896f"
      },
      "source": [
        "dssscore1.head()"
      ],
      "execution_count": 3,
      "outputs": [
        {
          "output_type": "execute_result",
          "data": {
            "text/html": [
              "<div>\n",
              "<style scoped>\n",
              "    .dataframe tbody tr th:only-of-type {\n",
              "        vertical-align: middle;\n",
              "    }\n",
              "\n",
              "    .dataframe tbody tr th {\n",
              "        vertical-align: top;\n",
              "    }\n",
              "\n",
              "    .dataframe thead th {\n",
              "        text-align: right;\n",
              "    }\n",
              "</style>\n",
              "<table border=\"1\" class=\"dataframe\">\n",
              "  <thead>\n",
              "    <tr style=\"text-align: right;\">\n",
              "      <th></th>\n",
              "      <th>Name</th>\n",
              "      <th>Score</th>\n",
              "      <th>Age</th>\n",
              "      <th>Ethinicity</th>\n",
              "      <th>Subject</th>\n",
              "      <th>Sex</th>\n",
              "      <th>ID</th>\n",
              "    </tr>\n",
              "  </thead>\n",
              "  <tbody>\n",
              "    <tr>\n",
              "      <th>0</th>\n",
              "      <td>AI-KYUNG CHUNG</td>\n",
              "      <td>82.0</td>\n",
              "      <td>18</td>\n",
              "      <td>White American</td>\n",
              "      <td>Data Structue</td>\n",
              "      <td>M</td>\n",
              "      <td>1</td>\n",
              "    </tr>\n",
              "    <tr>\n",
              "      <th>1</th>\n",
              "      <td>ALAN HARVEY</td>\n",
              "      <td>79.0</td>\n",
              "      <td>19</td>\n",
              "      <td>European American</td>\n",
              "      <td>Data Structue</td>\n",
              "      <td>M</td>\n",
              "      <td>2</td>\n",
              "    </tr>\n",
              "    <tr>\n",
              "      <th>2</th>\n",
              "      <td>ALAN REYNAUD</td>\n",
              "      <td>39.0</td>\n",
              "      <td>19</td>\n",
              "      <td>European American</td>\n",
              "      <td>Data Structue</td>\n",
              "      <td>M</td>\n",
              "      <td>3</td>\n",
              "    </tr>\n",
              "    <tr>\n",
              "      <th>3</th>\n",
              "      <td>ALBERT CENDANA</td>\n",
              "      <td>76.0</td>\n",
              "      <td>18</td>\n",
              "      <td>White American</td>\n",
              "      <td>Data Structue</td>\n",
              "      <td>M</td>\n",
              "      <td>4</td>\n",
              "    </tr>\n",
              "    <tr>\n",
              "      <th>4</th>\n",
              "      <td>ALBERT HOLT JR</td>\n",
              "      <td>76.0</td>\n",
              "      <td>18</td>\n",
              "      <td>White American</td>\n",
              "      <td>Data Structue</td>\n",
              "      <td>F</td>\n",
              "      <td>5</td>\n",
              "    </tr>\n",
              "  </tbody>\n",
              "</table>\n",
              "</div>"
            ],
            "text/plain": [
              "             Name  Score  Age         Ethinicity        Subject Sex  ID\n",
              "0  AI-KYUNG CHUNG   82.0   18     White American  Data Structue   M   1\n",
              "1     ALAN HARVEY   79.0   19  European American  Data Structue   M   2\n",
              "2    ALAN REYNAUD   39.0   19  European American  Data Structue   M   3\n",
              "3  ALBERT CENDANA   76.0   18     White American  Data Structue   M   4\n",
              "4  ALBERT HOLT JR   76.0   18     White American  Data Structue   F   5"
            ]
          },
          "metadata": {},
          "execution_count": 3
        }
      ]
    },
    {
      "cell_type": "code",
      "metadata": {
        "colab": {
          "base_uri": "https://localhost:8080/",
          "height": 204
        },
        "id": "sKpJ-UwiImyQ",
        "outputId": "0a6b4f47-d194-4a75-b42c-87d955a66ded"
      },
      "source": [
        "mathscore1 = pd.read_csv(\"MathScoreTerm1.csv\") # reading dataset2\n",
        "mathscore1.head()\n"
      ],
      "execution_count": 4,
      "outputs": [
        {
          "output_type": "execute_result",
          "data": {
            "text/html": [
              "<div>\n",
              "<style scoped>\n",
              "    .dataframe tbody tr th:only-of-type {\n",
              "        vertical-align: middle;\n",
              "    }\n",
              "\n",
              "    .dataframe tbody tr th {\n",
              "        vertical-align: top;\n",
              "    }\n",
              "\n",
              "    .dataframe thead th {\n",
              "        text-align: right;\n",
              "    }\n",
              "</style>\n",
              "<table border=\"1\" class=\"dataframe\">\n",
              "  <thead>\n",
              "    <tr style=\"text-align: right;\">\n",
              "      <th></th>\n",
              "      <th>Name</th>\n",
              "      <th>Score</th>\n",
              "      <th>Age</th>\n",
              "      <th>Ethinicity</th>\n",
              "      <th>Subject</th>\n",
              "      <th>Sex</th>\n",
              "      <th>ID</th>\n",
              "    </tr>\n",
              "  </thead>\n",
              "  <tbody>\n",
              "    <tr>\n",
              "      <th>0</th>\n",
              "      <td>AI-KYUNG CHUNG</td>\n",
              "      <td>88.0</td>\n",
              "      <td>18</td>\n",
              "      <td>White American</td>\n",
              "      <td>Maths</td>\n",
              "      <td>M</td>\n",
              "      <td>1</td>\n",
              "    </tr>\n",
              "    <tr>\n",
              "      <th>1</th>\n",
              "      <td>ALAN HARVEY</td>\n",
              "      <td>85.0</td>\n",
              "      <td>19</td>\n",
              "      <td>European American</td>\n",
              "      <td>Maths</td>\n",
              "      <td>M</td>\n",
              "      <td>2</td>\n",
              "    </tr>\n",
              "    <tr>\n",
              "      <th>2</th>\n",
              "      <td>ALAN REYNAUD</td>\n",
              "      <td>45.0</td>\n",
              "      <td>19</td>\n",
              "      <td>European American</td>\n",
              "      <td>Maths</td>\n",
              "      <td>M</td>\n",
              "      <td>3</td>\n",
              "    </tr>\n",
              "    <tr>\n",
              "      <th>3</th>\n",
              "      <td>ALBERT CENDANA</td>\n",
              "      <td>82.0</td>\n",
              "      <td>18</td>\n",
              "      <td>White American</td>\n",
              "      <td>Maths</td>\n",
              "      <td>M</td>\n",
              "      <td>4</td>\n",
              "    </tr>\n",
              "    <tr>\n",
              "      <th>4</th>\n",
              "      <td>ALBERT HOLT JR</td>\n",
              "      <td>82.0</td>\n",
              "      <td>18</td>\n",
              "      <td>White American</td>\n",
              "      <td>Maths</td>\n",
              "      <td>F</td>\n",
              "      <td>5</td>\n",
              "    </tr>\n",
              "  </tbody>\n",
              "</table>\n",
              "</div>"
            ],
            "text/plain": [
              "             Name  Score  Age         Ethinicity Subject Sex  ID\n",
              "0  AI-KYUNG CHUNG   88.0   18     White American   Maths   M   1\n",
              "1     ALAN HARVEY   85.0   19  European American   Maths   M   2\n",
              "2    ALAN REYNAUD   45.0   19  European American   Maths   M   3\n",
              "3  ALBERT CENDANA   82.0   18     White American   Maths   M   4\n",
              "4  ALBERT HOLT JR   82.0   18     White American   Maths   F   5"
            ]
          },
          "metadata": {},
          "execution_count": 4
        }
      ]
    },
    {
      "cell_type": "code",
      "metadata": {
        "colab": {
          "base_uri": "https://localhost:8080/",
          "height": 204
        },
        "id": "TB8UFvlBI8_r",
        "outputId": "40184c57-9e6d-4199-f976-f162af533e2c"
      },
      "source": [
        "physcore1 = pd.read_csv(\"PhysicsScoreTerm1.csv\") # reading dataset3\n",
        "physcore1.head()"
      ],
      "execution_count": 87,
      "outputs": [
        {
          "output_type": "execute_result",
          "data": {
            "text/html": [
              "<div>\n",
              "<style scoped>\n",
              "    .dataframe tbody tr th:only-of-type {\n",
              "        vertical-align: middle;\n",
              "    }\n",
              "\n",
              "    .dataframe tbody tr th {\n",
              "        vertical-align: top;\n",
              "    }\n",
              "\n",
              "    .dataframe thead th {\n",
              "        text-align: right;\n",
              "    }\n",
              "</style>\n",
              "<table border=\"1\" class=\"dataframe\">\n",
              "  <thead>\n",
              "    <tr style=\"text-align: right;\">\n",
              "      <th></th>\n",
              "      <th>Name</th>\n",
              "      <th>Score</th>\n",
              "      <th>Age</th>\n",
              "      <th>Ethinicity</th>\n",
              "      <th>Subject</th>\n",
              "      <th>Sex</th>\n",
              "      <th>ID</th>\n",
              "    </tr>\n",
              "  </thead>\n",
              "  <tbody>\n",
              "    <tr>\n",
              "      <th>0</th>\n",
              "      <td>AI-KYUNG CHUNG</td>\n",
              "      <td>84.0</td>\n",
              "      <td>18</td>\n",
              "      <td>White American</td>\n",
              "      <td>Physics</td>\n",
              "      <td>M</td>\n",
              "      <td>1</td>\n",
              "    </tr>\n",
              "    <tr>\n",
              "      <th>1</th>\n",
              "      <td>ALAN HARVEY</td>\n",
              "      <td>81.0</td>\n",
              "      <td>19</td>\n",
              "      <td>European American</td>\n",
              "      <td>Physics</td>\n",
              "      <td>M</td>\n",
              "      <td>2</td>\n",
              "    </tr>\n",
              "    <tr>\n",
              "      <th>2</th>\n",
              "      <td>ALAN REYNAUD</td>\n",
              "      <td>41.0</td>\n",
              "      <td>19</td>\n",
              "      <td>European American</td>\n",
              "      <td>Physics</td>\n",
              "      <td>M</td>\n",
              "      <td>3</td>\n",
              "    </tr>\n",
              "    <tr>\n",
              "      <th>3</th>\n",
              "      <td>ALBERT CENDANA</td>\n",
              "      <td>78.0</td>\n",
              "      <td>18</td>\n",
              "      <td>White American</td>\n",
              "      <td>Physics</td>\n",
              "      <td>M</td>\n",
              "      <td>4</td>\n",
              "    </tr>\n",
              "    <tr>\n",
              "      <th>4</th>\n",
              "      <td>ALBERT HOLT JR</td>\n",
              "      <td>78.0</td>\n",
              "      <td>18</td>\n",
              "      <td>White American</td>\n",
              "      <td>Physics</td>\n",
              "      <td>F</td>\n",
              "      <td>5</td>\n",
              "    </tr>\n",
              "  </tbody>\n",
              "</table>\n",
              "</div>"
            ],
            "text/plain": [
              "             Name  Score  Age         Ethinicity  Subject Sex  ID\n",
              "0  AI-KYUNG CHUNG   84.0   18     White American  Physics   M   1\n",
              "1     ALAN HARVEY   81.0   19  European American  Physics   M   2\n",
              "2    ALAN REYNAUD   41.0   19  European American  Physics   M   3\n",
              "3  ALBERT CENDANA   78.0   18     White American  Physics   M   4\n",
              "4  ALBERT HOLT JR   78.0   18     White American  Physics   F   5"
            ]
          },
          "metadata": {},
          "execution_count": 87
        }
      ]
    },
    {
      "cell_type": "code",
      "metadata": {
        "id": "h1w7C_sLjB40"
      },
      "source": [
        "# Dropping Name and ethinicity col...\n",
        "\n",
        "dssnew = dssscore1.drop(['Name','Ethinicity'], axis = 1)\n",
        "phynew = physcore1.drop(['Name','Ethinicity'], axis = 1)\n",
        "mathnew = mathscore1.drop(['Name','Ethinicity'], axis = 1)"
      ],
      "execution_count": 88,
      "outputs": []
    },
    {
      "cell_type": "code",
      "metadata": {
        "colab": {
          "base_uri": "https://localhost:8080/",
          "height": 204
        },
        "id": "yS2S316mGV94",
        "outputId": "c3327537-e15a-46e5-d130-8c91ea03f6c5"
      },
      "source": [
        "dssnew.head()"
      ],
      "execution_count": 9,
      "outputs": [
        {
          "output_type": "execute_result",
          "data": {
            "text/html": [
              "<div>\n",
              "<style scoped>\n",
              "    .dataframe tbody tr th:only-of-type {\n",
              "        vertical-align: middle;\n",
              "    }\n",
              "\n",
              "    .dataframe tbody tr th {\n",
              "        vertical-align: top;\n",
              "    }\n",
              "\n",
              "    .dataframe thead th {\n",
              "        text-align: right;\n",
              "    }\n",
              "</style>\n",
              "<table border=\"1\" class=\"dataframe\">\n",
              "  <thead>\n",
              "    <tr style=\"text-align: right;\">\n",
              "      <th></th>\n",
              "      <th>Score</th>\n",
              "      <th>Age</th>\n",
              "      <th>Subject</th>\n",
              "      <th>Sex</th>\n",
              "      <th>ID</th>\n",
              "    </tr>\n",
              "  </thead>\n",
              "  <tbody>\n",
              "    <tr>\n",
              "      <th>0</th>\n",
              "      <td>82.0</td>\n",
              "      <td>18</td>\n",
              "      <td>Data Structue</td>\n",
              "      <td>M</td>\n",
              "      <td>1</td>\n",
              "    </tr>\n",
              "    <tr>\n",
              "      <th>1</th>\n",
              "      <td>79.0</td>\n",
              "      <td>19</td>\n",
              "      <td>Data Structue</td>\n",
              "      <td>M</td>\n",
              "      <td>2</td>\n",
              "    </tr>\n",
              "    <tr>\n",
              "      <th>2</th>\n",
              "      <td>39.0</td>\n",
              "      <td>19</td>\n",
              "      <td>Data Structue</td>\n",
              "      <td>M</td>\n",
              "      <td>3</td>\n",
              "    </tr>\n",
              "    <tr>\n",
              "      <th>3</th>\n",
              "      <td>76.0</td>\n",
              "      <td>18</td>\n",
              "      <td>Data Structue</td>\n",
              "      <td>M</td>\n",
              "      <td>4</td>\n",
              "    </tr>\n",
              "    <tr>\n",
              "      <th>4</th>\n",
              "      <td>76.0</td>\n",
              "      <td>18</td>\n",
              "      <td>Data Structue</td>\n",
              "      <td>F</td>\n",
              "      <td>5</td>\n",
              "    </tr>\n",
              "  </tbody>\n",
              "</table>\n",
              "</div>"
            ],
            "text/plain": [
              "   Score  Age        Subject Sex  ID\n",
              "0   82.0   18  Data Structue   M   1\n",
              "1   79.0   19  Data Structue   M   2\n",
              "2   39.0   19  Data Structue   M   3\n",
              "3   76.0   18  Data Structue   M   4\n",
              "4   76.0   18  Data Structue   F   5"
            ]
          },
          "metadata": {},
          "execution_count": 9
        }
      ]
    },
    {
      "cell_type": "code",
      "metadata": {
        "colab": {
          "base_uri": "https://localhost:8080/"
        },
        "id": "bJ9fqhodIiX1",
        "outputId": "92e6a102-e337-44d0-9820-c12600506070"
      },
      "source": [
        "dssnew.isnull().sum(axis = 0)"
      ],
      "execution_count": 22,
      "outputs": [
        {
          "output_type": "execute_result",
          "data": {
            "text/plain": [
              "Score      8\n",
              "Age        0\n",
              "Subject    0\n",
              "Sex        0\n",
              "ID         0\n",
              "dtype: int64"
            ]
          },
          "metadata": {},
          "execution_count": 22
        }
      ]
    },
    {
      "cell_type": "code",
      "metadata": {
        "colab": {
          "base_uri": "https://localhost:8080/",
          "height": 204
        },
        "id": "kT_kCAMqGre8",
        "outputId": "62ab9e64-0889-40e8-de09-3736333a482f"
      },
      "source": [
        "phynew.head()"
      ],
      "execution_count": 10,
      "outputs": [
        {
          "output_type": "execute_result",
          "data": {
            "text/html": [
              "<div>\n",
              "<style scoped>\n",
              "    .dataframe tbody tr th:only-of-type {\n",
              "        vertical-align: middle;\n",
              "    }\n",
              "\n",
              "    .dataframe tbody tr th {\n",
              "        vertical-align: top;\n",
              "    }\n",
              "\n",
              "    .dataframe thead th {\n",
              "        text-align: right;\n",
              "    }\n",
              "</style>\n",
              "<table border=\"1\" class=\"dataframe\">\n",
              "  <thead>\n",
              "    <tr style=\"text-align: right;\">\n",
              "      <th></th>\n",
              "      <th>Score</th>\n",
              "      <th>Age</th>\n",
              "      <th>Subject</th>\n",
              "      <th>Sex</th>\n",
              "      <th>ID</th>\n",
              "    </tr>\n",
              "  </thead>\n",
              "  <tbody>\n",
              "    <tr>\n",
              "      <th>0</th>\n",
              "      <td>84.0</td>\n",
              "      <td>18</td>\n",
              "      <td>Physics</td>\n",
              "      <td>M</td>\n",
              "      <td>1</td>\n",
              "    </tr>\n",
              "    <tr>\n",
              "      <th>1</th>\n",
              "      <td>81.0</td>\n",
              "      <td>19</td>\n",
              "      <td>Physics</td>\n",
              "      <td>M</td>\n",
              "      <td>2</td>\n",
              "    </tr>\n",
              "    <tr>\n",
              "      <th>2</th>\n",
              "      <td>41.0</td>\n",
              "      <td>19</td>\n",
              "      <td>Physics</td>\n",
              "      <td>M</td>\n",
              "      <td>3</td>\n",
              "    </tr>\n",
              "    <tr>\n",
              "      <th>3</th>\n",
              "      <td>78.0</td>\n",
              "      <td>18</td>\n",
              "      <td>Physics</td>\n",
              "      <td>M</td>\n",
              "      <td>4</td>\n",
              "    </tr>\n",
              "    <tr>\n",
              "      <th>4</th>\n",
              "      <td>78.0</td>\n",
              "      <td>18</td>\n",
              "      <td>Physics</td>\n",
              "      <td>F</td>\n",
              "      <td>5</td>\n",
              "    </tr>\n",
              "  </tbody>\n",
              "</table>\n",
              "</div>"
            ],
            "text/plain": [
              "   Score  Age  Subject Sex  ID\n",
              "0   84.0   18  Physics   M   1\n",
              "1   81.0   19  Physics   M   2\n",
              "2   41.0   19  Physics   M   3\n",
              "3   78.0   18  Physics   M   4\n",
              "4   78.0   18  Physics   F   5"
            ]
          },
          "metadata": {},
          "execution_count": 10
        }
      ]
    },
    {
      "cell_type": "code",
      "metadata": {
        "colab": {
          "base_uri": "https://localhost:8080/"
        },
        "id": "Xp_MAyZ1Idx0",
        "outputId": "d172b8fb-6e66-4dc6-cb5e-e50fa8f4edc5"
      },
      "source": [
        "phynew.isnull().sum(axis = 0)"
      ],
      "execution_count": 89,
      "outputs": [
        {
          "output_type": "execute_result",
          "data": {
            "text/plain": [
              "Score      6\n",
              "Age        0\n",
              "Subject    0\n",
              "Sex        0\n",
              "ID         0\n",
              "dtype: int64"
            ]
          },
          "metadata": {},
          "execution_count": 89
        }
      ]
    },
    {
      "cell_type": "code",
      "metadata": {
        "colab": {
          "base_uri": "https://localhost:8080/",
          "height": 204
        },
        "id": "ddrjbyC_Gwh0",
        "outputId": "39cca1ed-f6fa-4d6e-bd96-c7554976f4c1"
      },
      "source": [
        "mathnew.head()"
      ],
      "execution_count": 19,
      "outputs": [
        {
          "output_type": "execute_result",
          "data": {
            "text/html": [
              "<div>\n",
              "<style scoped>\n",
              "    .dataframe tbody tr th:only-of-type {\n",
              "        vertical-align: middle;\n",
              "    }\n",
              "\n",
              "    .dataframe tbody tr th {\n",
              "        vertical-align: top;\n",
              "    }\n",
              "\n",
              "    .dataframe thead th {\n",
              "        text-align: right;\n",
              "    }\n",
              "</style>\n",
              "<table border=\"1\" class=\"dataframe\">\n",
              "  <thead>\n",
              "    <tr style=\"text-align: right;\">\n",
              "      <th></th>\n",
              "      <th>Score</th>\n",
              "      <th>Age</th>\n",
              "      <th>Subject</th>\n",
              "      <th>Sex</th>\n",
              "      <th>ID</th>\n",
              "    </tr>\n",
              "  </thead>\n",
              "  <tbody>\n",
              "    <tr>\n",
              "      <th>0</th>\n",
              "      <td>88.0</td>\n",
              "      <td>18</td>\n",
              "      <td>Maths</td>\n",
              "      <td>M</td>\n",
              "      <td>1</td>\n",
              "    </tr>\n",
              "    <tr>\n",
              "      <th>1</th>\n",
              "      <td>85.0</td>\n",
              "      <td>19</td>\n",
              "      <td>Maths</td>\n",
              "      <td>M</td>\n",
              "      <td>2</td>\n",
              "    </tr>\n",
              "    <tr>\n",
              "      <th>2</th>\n",
              "      <td>45.0</td>\n",
              "      <td>19</td>\n",
              "      <td>Maths</td>\n",
              "      <td>M</td>\n",
              "      <td>3</td>\n",
              "    </tr>\n",
              "    <tr>\n",
              "      <th>3</th>\n",
              "      <td>82.0</td>\n",
              "      <td>18</td>\n",
              "      <td>Maths</td>\n",
              "      <td>M</td>\n",
              "      <td>4</td>\n",
              "    </tr>\n",
              "    <tr>\n",
              "      <th>4</th>\n",
              "      <td>82.0</td>\n",
              "      <td>18</td>\n",
              "      <td>Maths</td>\n",
              "      <td>F</td>\n",
              "      <td>5</td>\n",
              "    </tr>\n",
              "  </tbody>\n",
              "</table>\n",
              "</div>"
            ],
            "text/plain": [
              "   Score  Age Subject Sex  ID\n",
              "0   88.0   18   Maths   M   1\n",
              "1   85.0   19   Maths   M   2\n",
              "2   45.0   19   Maths   M   3\n",
              "3   82.0   18   Maths   M   4\n",
              "4   82.0   18   Maths   F   5"
            ]
          },
          "metadata": {},
          "execution_count": 19
        }
      ]
    },
    {
      "cell_type": "code",
      "metadata": {
        "colab": {
          "base_uri": "https://localhost:8080/"
        },
        "id": "t9y4LXlFIZOd",
        "outputId": "365ab17f-abbb-4098-ce7e-4f18de0cf92b"
      },
      "source": [
        "mathnew.isnull().sum(axis = 0)"
      ],
      "execution_count": 20,
      "outputs": [
        {
          "output_type": "execute_result",
          "data": {
            "text/plain": [
              "Score      3\n",
              "Age        0\n",
              "Subject    0\n",
              "Sex        0\n",
              "ID         0\n",
              "dtype: int64"
            ]
          },
          "metadata": {},
          "execution_count": 20
        }
      ]
    },
    {
      "cell_type": "code",
      "metadata": {
        "colab": {
          "base_uri": "https://localhost:8080/"
        },
        "id": "PzoY0HS1HLyw",
        "outputId": "c1dab71d-bf53-4de6-cf6a-10b4cd4ff2ec"
      },
      "source": [
        "# Filling null Score by 0\n",
        "\n",
        "\n",
        "print(\"Physics\")\n",
        "phynew['Score'].fillna(0, inplace=True)\n",
        "print(phynew.isnull().sum())\n",
        "\n",
        "print(\"DSS\")\n",
        "dssnew['Score'].fillna(0, inplace=True)\n",
        "print(dssnew.isnull().sum())\n",
        "\n",
        "print(\"Maths\")\n",
        "mathnew['Score'].fillna(0, inplace=True)\n",
        "print(mathnew.isnull().sum())"
      ],
      "execution_count": 93,
      "outputs": [
        {
          "output_type": "stream",
          "name": "stdout",
          "text": [
            "Physics\n",
            "Score      0\n",
            "Age        0\n",
            "Subject    0\n",
            "Sex        0\n",
            "ID         0\n",
            "dtype: int64\n",
            "DSS\n",
            "Score      0\n",
            "Age        0\n",
            "Subject    0\n",
            "Sex        0\n",
            "ID         0\n",
            "dtype: int64\n",
            "Maths\n",
            "Score      0\n",
            "Age        0\n",
            "Subject    0\n",
            "Sex        0\n",
            "ID         0\n",
            "dtype: int64\n"
          ]
        }
      ]
    },
    {
      "cell_type": "code",
      "metadata": {
        "id": "ErY_EM-vV152"
      },
      "source": [
        "# Replacing M and F with 1 and 2\n",
        "\n",
        "phynew.replace('M',1, inplace=True)\n",
        "phynew.replace('F',2, inplace=True)\n",
        "dssnew.replace('M',1, inplace=True)\n",
        "dssnew.replace('F',1, inplace=True)\n",
        "mathnew.replace('M',1, inplace=True)\n",
        "mathnew.replace('F',1, inplace=True)"
      ],
      "execution_count": 94,
      "outputs": []
    },
    {
      "cell_type": "code",
      "metadata": {
        "colab": {
          "base_uri": "https://localhost:8080/",
          "height": 204
        },
        "id": "dQtbW27CU3Q7",
        "outputId": "c6163557-e2fb-4ffb-d2a5-7619b1bfa4d0"
      },
      "source": [
        "phynew.head()"
      ],
      "execution_count": 95,
      "outputs": [
        {
          "output_type": "execute_result",
          "data": {
            "text/html": [
              "<div>\n",
              "<style scoped>\n",
              "    .dataframe tbody tr th:only-of-type {\n",
              "        vertical-align: middle;\n",
              "    }\n",
              "\n",
              "    .dataframe tbody tr th {\n",
              "        vertical-align: top;\n",
              "    }\n",
              "\n",
              "    .dataframe thead th {\n",
              "        text-align: right;\n",
              "    }\n",
              "</style>\n",
              "<table border=\"1\" class=\"dataframe\">\n",
              "  <thead>\n",
              "    <tr style=\"text-align: right;\">\n",
              "      <th></th>\n",
              "      <th>Score</th>\n",
              "      <th>Age</th>\n",
              "      <th>Subject</th>\n",
              "      <th>Sex</th>\n",
              "      <th>ID</th>\n",
              "    </tr>\n",
              "  </thead>\n",
              "  <tbody>\n",
              "    <tr>\n",
              "      <th>0</th>\n",
              "      <td>84.0</td>\n",
              "      <td>18</td>\n",
              "      <td>Physics</td>\n",
              "      <td>1</td>\n",
              "      <td>1</td>\n",
              "    </tr>\n",
              "    <tr>\n",
              "      <th>1</th>\n",
              "      <td>81.0</td>\n",
              "      <td>19</td>\n",
              "      <td>Physics</td>\n",
              "      <td>1</td>\n",
              "      <td>2</td>\n",
              "    </tr>\n",
              "    <tr>\n",
              "      <th>2</th>\n",
              "      <td>41.0</td>\n",
              "      <td>19</td>\n",
              "      <td>Physics</td>\n",
              "      <td>1</td>\n",
              "      <td>3</td>\n",
              "    </tr>\n",
              "    <tr>\n",
              "      <th>3</th>\n",
              "      <td>78.0</td>\n",
              "      <td>18</td>\n",
              "      <td>Physics</td>\n",
              "      <td>1</td>\n",
              "      <td>4</td>\n",
              "    </tr>\n",
              "    <tr>\n",
              "      <th>4</th>\n",
              "      <td>78.0</td>\n",
              "      <td>18</td>\n",
              "      <td>Physics</td>\n",
              "      <td>2</td>\n",
              "      <td>5</td>\n",
              "    </tr>\n",
              "  </tbody>\n",
              "</table>\n",
              "</div>"
            ],
            "text/plain": [
              "   Score  Age  Subject  Sex  ID\n",
              "0   84.0   18  Physics    1   1\n",
              "1   81.0   19  Physics    1   2\n",
              "2   41.0   19  Physics    1   3\n",
              "3   78.0   18  Physics    1   4\n",
              "4   78.0   18  Physics    2   5"
            ]
          },
          "metadata": {},
          "execution_count": 95
        }
      ]
    },
    {
      "cell_type": "code",
      "metadata": {
        "id": "k7TngqxVQKqz"
      },
      "source": [
        "# Merging data for final data set...\n",
        "\n",
        "n1 = pd.merge(mathnew, phynew, on=\"ID\")\n",
        "\n",
        "final = pd.merge(n1, dssnew, on=\"ID\")"
      ],
      "execution_count": 96,
      "outputs": []
    },
    {
      "cell_type": "code",
      "metadata": {
        "colab": {
          "base_uri": "https://localhost:8080/"
        },
        "id": "qfapYE33RWGh",
        "outputId": "31bac9f6-4b74-453b-ddb3-5f134acee0fa"
      },
      "source": [
        "print(final)"
      ],
      "execution_count": 97,
      "outputs": [
        {
          "output_type": "stream",
          "name": "stdout",
          "text": [
            "     Score_x  Age_x Subject_x  Sex_x  ...  Score  Age        Subject Sex\n",
            "0       88.0     18     Maths      1  ...   82.0   18  Data Structue   1\n",
            "1       85.0     19     Maths      1  ...   79.0   19  Data Structue   1\n",
            "2       45.0     19     Maths      1  ...   39.0   19  Data Structue   1\n",
            "3       82.0     18     Maths      1  ...   76.0   18  Data Structue   1\n",
            "4       82.0     18     Maths      1  ...   76.0   18  Data Structue   1\n",
            "..       ...    ...       ...    ...  ...    ...  ...            ...  ..\n",
            "594     45.0     19     Maths      1  ...   39.0   19  Data Structue   1\n",
            "595     75.0     18     Maths      1  ...   69.0   18  Data Structue   1\n",
            "596     53.0     20     Maths      1  ...   47.0   20  Data Structue   1\n",
            "597     75.0     20     Maths      1  ...   69.0   20  Data Structue   1\n",
            "598     88.0     19     Maths      1  ...    0.0   19  Data Structue   1\n",
            "\n",
            "[599 rows x 13 columns]\n"
          ]
        }
      ]
    }
  ]
}