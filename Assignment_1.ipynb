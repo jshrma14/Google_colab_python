{
  "nbformat": 4,
  "nbformat_minor": 0,
  "metadata": {
    "colab": {
      "name": "Edureka_Assignment_1.ipynb",
      "provenance": [],
      "collapsed_sections": [],
      "include_colab_link": true
    },
    "kernelspec": {
      "name": "python3",
      "display_name": "Python 3"
    },
    "language_info": {
      "name": "python"
    }
  },
  "cells": [
    {
      "cell_type": "markdown",
      "metadata": {
        "id": "view-in-github",
        "colab_type": "text"
      },
      "source": [
        "<a href=\"https://colab.research.google.com/github/jshrma14/Google_colab_python/blob/main/Assignment_1.ipynb\" target=\"_parent\"><img src=\"https://colab.research.google.com/assets/colab-badge.svg\" alt=\"Open In Colab\"/></a>"
      ]
    },
    {
      "cell_type": "markdown",
      "metadata": {
        "id": "yTAgxXMn5yNs"
      },
      "source": [
        "Name: Jatin Sharma"
      ]
    },
    {
      "cell_type": "code",
      "metadata": {
        "colab": {
          "base_uri": "https://localhost:8080/"
        },
        "id": "60DaCY44xVqt",
        "outputId": "7ebd4c78-5bbb-457f-a4d6-3314dfd8d3bd"
      },
      "source": [
        "# To find factors and to check if it is even or odd:\n",
        "\n",
        "n = eval(input(\"Enter a number\"))\n",
        "c = 1\n",
        "print(f\"Factors of {n} are :\")\n",
        "while(c<n):\n",
        "  if n%c == 0:\n",
        "    if c%2 == 0:\n",
        "      print(f\"{c} is a factor and it is even\")\n",
        "    else:\n",
        "      print(f\"{c} is a factor and it is odd\")\n",
        "  c += 1\n",
        "\n"
      ],
      "execution_count": null,
      "outputs": [
        {
          "output_type": "stream",
          "name": "stdout",
          "text": [
            "Enter a number10\n",
            "Factors of 10 are :\n",
            "1 is a factor and it is odd\n",
            "2 is a factor and it is even\n",
            "5 is a factor and it is odd\n"
          ]
        }
      ]
    },
    {
      "cell_type": "code",
      "metadata": {
        "colab": {
          "base_uri": "https://localhost:8080/"
        },
        "id": "UrcJvfrQzEIT",
        "outputId": "d1937805-243b-4db1-d318-83f3ce85b4a9"
      },
      "source": [
        "# To take sequence of words as input and then sort them:\n",
        "\n",
        "alpha = input(\"Enter the sequence:\")\n",
        "\n",
        "print(sorted(alpha))\n"
      ],
      "execution_count": null,
      "outputs": [
        {
          "output_type": "stream",
          "name": "stdout",
          "text": [
            "Enter the sequence:jatin\n",
            "['a', 'i', 'j', 'n', 't']\n"
          ]
        }
      ]
    },
    {
      "cell_type": "code",
      "metadata": {
        "id": "R7YGgq-xzh92"
      },
      "source": [
        "# Find all the numbers between 1000 and 3000 (both excluded) such that each digit of a number is an odd number.\n",
        "\n",
        "for i in range(1001,3000):\n",
        "  for num in str(i):\n",
        "    if int(num)%2 == 0:\n",
        "      break\n",
        "  else:\n",
        "    print(i)"
      ],
      "execution_count": null,
      "outputs": []
    },
    {
      "cell_type": "code",
      "metadata": {
        "colab": {
          "base_uri": "https://localhost:8080/"
        },
        "id": "hcnYhEpa1YSY",
        "outputId": "14739189-8f4d-49d0-e406-e83400fd0d5f"
      },
      "source": [
        "# Write a program that accepts a string and calculates the number of letters and digits.\n",
        "\n",
        "word = input(\"Enter something: \")\n",
        "digit = 0\n",
        "letters = 0\n",
        "for i in word:\n",
        "  if i.isdigit():\n",
        "    digit += 1\n",
        "  if i.isalpha():\n",
        "    letters += 1\n",
        "print(f\"Digit: {digit}\\nLetters: {letters}\")"
      ],
      "execution_count": null,
      "outputs": [
        {
          "output_type": "stream",
          "name": "stdout",
          "text": [
            "Enter something: edureka123\n",
            "Digit: 3\n",
            "Letters: 7\n"
          ]
        }
      ]
    },
    {
      "cell_type": "code",
      "metadata": {
        "colab": {
          "base_uri": "https://localhost:8080/"
        },
        "id": "6wcMAJf82ll4",
        "outputId": "e535109c-8cc6-4b99-d9c3-492d5221b8ee"
      },
      "source": [
        "# Design a code which will find whether the given number is Palindrome number or not.\n",
        "\n",
        "num = str(abs(int(input(\"Enter a number: \"))))\n",
        "print(num)\n",
        "'''\n",
        "shortcut\n",
        "\n",
        "if num == num[::-1]:\n",
        "  print(\"It is a palindrome.\")\n",
        "else:\n",
        "  print(\"Not a palindrome.\")\n",
        "\n",
        "'''\n",
        "s = 0\n",
        "e = len(num)-1\n",
        "while(e>s):\n",
        "  if num[s] != num[e]:\n",
        "    print(\"It is not a palindrome.\")\n",
        "    break\n",
        "  s  +=1\n",
        "  e -=1\n",
        "else:\n",
        "  print(\"It is a palindrome.\")\n"
      ],
      "execution_count": null,
      "outputs": [
        {
          "output_type": "stream",
          "name": "stdout",
          "text": [
            "Enter a number: 111\n",
            "111\n",
            "It is a palindrome.\n"
          ]
        }
      ]
    }
  ]
}