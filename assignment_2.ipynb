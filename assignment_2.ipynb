{
  "nbformat": 4,
  "nbformat_minor": 0,
  "metadata": {
    "colab": {
      "name": "Edureka assignment 2.ipynb",
      "provenance": [],
      "collapsed_sections": [],
      "authorship_tag": "ABX9TyOJyqlaSMZ3XGWfb2UCGmp0",
      "include_colab_link": true
    },
    "kernelspec": {
      "name": "python3",
      "display_name": "Python 3"
    },
    "language_info": {
      "name": "python"
    }
  },
  "cells": [
    {
      "cell_type": "markdown",
      "metadata": {
        "id": "view-in-github",
        "colab_type": "text"
      },
      "source": [
        "<a href=\"https://colab.research.google.com/github/jshrma14/Google_colab_python/blob/main/assignment_2.ipynb\" target=\"_parent\"><img src=\"https://colab.research.google.com/assets/colab-badge.svg\" alt=\"Open In Colab\"/></a>"
      ]
    },
    {
      "cell_type": "code",
      "metadata": {
        "colab": {
          "base_uri": "https://localhost:8080/"
        },
        "id": "J2K-NkanuJpb",
        "outputId": "33234fa7-17e8-4c95-add6-4b74bc7c5b7e"
      },
      "source": [
        "u_name = input(\"Please enter your name: \")\n",
        "pwrd = input(\"Please enter a password: \")\n",
        "\n",
        "# Authentication checking\n",
        "auth = False\n",
        "if len(pwrd)>=5 and len(pwrd)<=10:\n",
        "  auth = True\n",
        "  if pwrd.isalpha():\n",
        "    auth = False\n",
        "  if pwrd.isnumeric():\n",
        "    auth = False\n",
        "  if \"@\" in pwrd or \"&\" in pwrd:\n",
        "    auth = True\n",
        "  else:\n",
        "    auth = False\n",
        "\n",
        "\n",
        "if auth:\n",
        "  print(\"Information successfully saved.\")\n",
        "else:\n",
        "  print(\"Authentication failed...\")\n",
        "\n"
      ],
      "execution_count": null,
      "outputs": [
        {
          "output_type": "stream",
          "name": "stdout",
          "text": [
            "Please enter your name: Jatin\n",
            "Please enter a password: Jatin123@\n",
            "Information successfully saved.\n"
          ]
        }
      ]
    },
    {
      "cell_type": "code",
      "metadata": {
        "colab": {
          "base_uri": "https://localhost:8080/"
        },
        "id": "IZI5WuSG7kPU",
        "outputId": "5cd49f26-f604-4e27-f008-cd7d4c3a4688"
      },
      "source": [
        "# Print index n value:\n",
        "lst = list(input(\"Enter someething\"))\n",
        "\n",
        "for i in range(len(lst)):\n",
        "  print(f\"Index: {i} -  Value: {lst[i]}\")"
      ],
      "execution_count": null,
      "outputs": [
        {
          "output_type": "stream",
          "name": "stdout",
          "text": [
            "Enter someething123qwerty\n",
            "Index: 0 -  Value: 1\n",
            "Index: 1 -  Value: 2\n",
            "Index: 2 -  Value: 3\n",
            "Index: 3 -  Value: q\n",
            "Index: 4 -  Value: w\n",
            "Index: 5 -  Value: e\n",
            "Index: 6 -  Value: r\n",
            "Index: 7 -  Value: t\n",
            "Index: 8 -  Value: y\n"
          ]
        }
      ]
    },
    {
      "cell_type": "code",
      "metadata": {
        "colab": {
          "base_uri": "https://localhost:8080/"
        },
        "id": "UJogw0kf8D9h",
        "outputId": "3990b91e-c366-4611-ce23-e5bdc42d3ce0"
      },
      "source": [
        "# Even position str print if alpha:\n",
        "word = input(\"Enter anything: \")\n",
        "\n",
        "nuword = \"\"\n",
        "for i in word[1::2]:\n",
        "  if i.isalpha():\n",
        "    nuword += i\n",
        "print(nuword)\n"
      ],
      "execution_count": null,
      "outputs": [
        {
          "output_type": "stream",
          "name": "stdout",
          "text": [
            "Enter anything: ed1u23re4ka\n",
            "duek\n"
          ]
        }
      ]
    },
    {
      "cell_type": "code",
      "metadata": {
        "colab": {
          "base_uri": "https://localhost:8080/"
        },
        "id": "epQ-4GVV9MlM",
        "outputId": "ae1c5190-6320-4bbe-f023-b7caca518b2b"
      },
      "source": [
        "# Print input str in reverse:\n",
        "word = input(\"Enter any word: \")\n",
        "\n",
        "print(word[::-1])"
      ],
      "execution_count": null,
      "outputs": [
        {
          "output_type": "stream",
          "name": "stdout",
          "text": [
            "Enter any word: Python is beaut\n",
            "tuaeb si nohtyP\n"
          ]
        }
      ]
    },
    {
      "cell_type": "code",
      "metadata": {
        "colab": {
          "base_uri": "https://localhost:8080/"
        },
        "id": "3ObB1tf49baJ",
        "outputId": "9d1649cd-b822-4fc5-d73a-0de1facbd550"
      },
      "source": [
        "# Print count of chrs:\n",
        "\n",
        "word = input(\"Enter any word: \")\n",
        "\n",
        "for i in set(word):\n",
        "  print(i, word.count(i))"
      ],
      "execution_count": null,
      "outputs": [
        {
          "output_type": "stream",
          "name": "stdout",
          "text": [
            "Enter any word: aabccddeefggh\n",
            "h 1\n",
            "a 2\n",
            "b 1\n",
            "d 2\n",
            "e 2\n",
            "f 1\n",
            "c 2\n",
            "g 2\n"
          ]
        }
      ]
    },
    {
      "cell_type": "code",
      "metadata": {
        "colab": {
          "base_uri": "https://localhost:8080/"
        },
        "id": "QiC9re10-aDw",
        "outputId": "40a71ddd-720e-493b-a03a-d23e4fed3d29"
      },
      "source": [
        "l1 = [1,5,10,12,34,13]\n",
        "l2 = [4,7,8,10,5,13,24]\n",
        "\n",
        "print(set(l1) & set(l2))"
      ],
      "execution_count": null,
      "outputs": [
        {
          "output_type": "stream",
          "name": "stdout",
          "text": [
            "{10, 13, 5}\n"
          ]
        }
      ]
    },
    {
      "cell_type": "code",
      "metadata": {
        "colab": {
          "base_uri": "https://localhost:8080/"
        },
        "id": "FZgOH0kj-moJ",
        "outputId": "4eee3e26-1575-4e92-f245-e9aefe1f759d"
      },
      "source": [
        "l1 = [12,24,35,24,88,120,155]\n",
        "\n",
        "print(list(filter(lambda x: x%6 !=0, l1)))"
      ],
      "execution_count": null,
      "outputs": [
        {
          "output_type": "stream",
          "name": "stdout",
          "text": [
            "[35, 88, 155]\n"
          ]
        }
      ]
    },
    {
      "cell_type": "code",
      "metadata": {
        "colab": {
          "base_uri": "https://localhost:8080/"
        },
        "id": "LGkRzKEG_Z_x",
        "outputId": "0e680488-1664-485f-99f7-aad5a27a6f37"
      },
      "source": [
        "l1 = [12,24,35,24,88,120,155]\n",
        "\n",
        "print(list(filter(lambda i: l1.index(i) != 0 and l1.index(i) != 2 and l1.index(i) != 4, l1)))"
      ],
      "execution_count": null,
      "outputs": [
        {
          "output_type": "stream",
          "name": "stdout",
          "text": [
            "[24, 24, 120, 155]\n"
          ]
        }
      ]
    },
    {
      "cell_type": "code",
      "metadata": {
        "id": "9VhjzM3CBMON",
        "colab": {
          "base_uri": "https://localhost:8080/"
        },
        "outputId": "e2b7516e-e9a0-443e-ee60-e14aedc70218"
      },
      "source": [
        "# List of random numbers between 1-1500 divisible by 5 and 7\n",
        "\n",
        "from random import randint\n",
        "\n",
        "lst = []\n",
        "\n",
        "for _ in range(0,1600):\n",
        "  i =  randint(1,1500)\n",
        "  if i%5 == 0 and i%7 == 0:\n",
        "    lst.append(i)\n",
        "  if len(lst) == 6:\n",
        "    break\n",
        "\n",
        "print(lst)\n"
      ],
      "execution_count": null,
      "outputs": [
        {
          "output_type": "stream",
          "name": "stdout",
          "text": [
            "[875, 1295, 770, 980, 105, 490]\n"
          ]
        }
      ]
    },
    {
      "cell_type": "code",
      "metadata": {
        "colab": {
          "base_uri": "https://localhost:8080/"
        },
        "id": "3IjTBaCMJqsL",
        "outputId": "308703b4-c71e-467a-b513-eaca0f6b4ea1"
      },
      "source": [
        "n = int(input(\"Please enter any positive integer: \"))\n",
        "\n",
        "ans = 0\n",
        "for i in range(1,n+1):\n",
        "  ans += i/(i+1)\n",
        "\n",
        "print(f\"{ans:.2f}\")"
      ],
      "execution_count": null,
      "outputs": [
        {
          "output_type": "stream",
          "name": "stdout",
          "text": [
            "Please enter any positive integer: 5\n",
            "3.55\n"
          ]
        }
      ]
    }
  ]
}